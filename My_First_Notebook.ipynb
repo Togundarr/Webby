{
  "nbformat": 4,
  "nbformat_minor": 0,
  "metadata": {
    "colab": {
      "provenance": [],
      "authorship_tag": "ABX9TyPOzQ7Rbxt298ZsYwXdnnt7",
      "include_colab_link": true
    },
    "kernelspec": {
      "name": "python3",
      "display_name": "Python 3"
    },
    "language_info": {
      "name": "python"
    }
  },
  "cells": [
    {
      "cell_type": "markdown",
      "metadata": {
        "id": "view-in-github",
        "colab_type": "text"
      },
      "source": [
        "<a href=\"https://colab.research.google.com/github/Togundarr/Webby/blob/main/My_First_Notebook.ipynb\" target=\"_parent\"><img src=\"https://colab.research.google.com/assets/colab-badge.svg\" alt=\"Open In Colab\"/></a>"
      ]
    },
    {
      "cell_type": "code",
      "execution_count": null,
      "metadata": {
        "colab": {
          "base_uri": "https://localhost:8080/"
        },
        "id": "VSgnlT_NYzMb",
        "outputId": "432b1241-d3f3-4bb7-ff5f-029467b13e02"
      },
      "outputs": [
        {
          "output_type": "stream",
          "name": "stdout",
          "text": [
            "Hello World!! My First Notebook\n"
          ]
        }
      ],
      "source": [
        "print('Hello World!! My First Notebook')"
      ]
    },
    {
      "cell_type": "markdown",
      "source": [
        "Below is the python version"
      ],
      "metadata": {
        "id": "xdLhu6pxa3X_"
      }
    },
    {
      "cell_type": "code",
      "source": [
        "!python --version"
      ],
      "metadata": {
        "colab": {
          "base_uri": "https://localhost:8080/"
        },
        "id": "0PzAmztpbOgG",
        "outputId": "a20b3f8e-e05b-4afa-fbf6-8aabcf122e0a"
      },
      "execution_count": null,
      "outputs": [
        {
          "output_type": "stream",
          "name": "stdout",
          "text": [
            "Python 3.10.12\n"
          ]
        }
      ]
    },
    {
      "cell_type": "code",
      "source": [
        "print ('Odd or Even')\n",
        "\n",
        "for num in range(0,40):\n",
        "  if num !=0:\n",
        "    if num%2 ==0 and num!=0:\n",
        "      print (num, \" is even\")\n",
        "    else:\n",
        "      print (num, \" is odd\")\n"
      ],
      "metadata": {
        "colab": {
          "base_uri": "https://localhost:8080/"
        },
        "id": "FlcYgzFmdg30",
        "outputId": "3c686e88-c875-4376-f162-3debee3aaebf"
      },
      "execution_count": 48,
      "outputs": [
        {
          "output_type": "stream",
          "name": "stdout",
          "text": [
            "Odd or Even\n",
            "1  is odd\n",
            "2  is even\n",
            "3  is odd\n",
            "4  is even\n",
            "5  is odd\n",
            "6  is even\n",
            "7  is odd\n",
            "8  is even\n",
            "9  is odd\n",
            "10  is even\n",
            "11  is odd\n",
            "12  is even\n",
            "13  is odd\n",
            "14  is even\n",
            "15  is odd\n",
            "16  is even\n",
            "17  is odd\n",
            "18  is even\n",
            "19  is odd\n",
            "20  is even\n",
            "21  is odd\n",
            "22  is even\n",
            "23  is odd\n",
            "24  is even\n",
            "25  is odd\n",
            "26  is even\n",
            "27  is odd\n",
            "28  is even\n",
            "29  is odd\n",
            "30  is even\n",
            "31  is odd\n",
            "32  is even\n",
            "33  is odd\n",
            "34  is even\n",
            "35  is odd\n",
            "36  is even\n",
            "37  is odd\n",
            "38  is even\n",
            "39  is odd\n"
          ]
        }
      ]
    }
  ]
}